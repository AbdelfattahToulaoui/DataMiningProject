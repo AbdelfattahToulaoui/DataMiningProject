{
 "cells": [
  {
   "cell_type": "code",
   "execution_count": 1,
   "id": "d48d41cf",
   "metadata": {},
   "outputs": [],
   "source": [
    "import polyglot\n",
    "import json\n",
    "from tqdm import tqdm\n",
    "from polyglot import detect\n",
    "from polyglot.detect.base import logger as polyglot_logger\n",
    "import re\n",
    "import numpy as np\n",
    "from polyglot.text import Text, Word\n",
    "from collections import defaultdict\n",
    "import datetime\n",
    "import matplotlib.pyplot as plt\n",
    "\n",
    "polyglot_logger.setLevel(\"ERROR\")"
   ]
  },
  {
   "cell_type": "code",
   "execution_count": 2,
   "id": "52a81c64",
   "metadata": {},
   "outputs": [],
   "source": [
    "# Load the data from jsonl file produced by snscrape\n",
    "# https://github.com/JustAnotherArchivist/snscrape\n",
    "jsonl = open('hebrew.json', 'r')"
   ]
  },
  {
   "cell_type": "code",
   "execution_count": 3,
   "id": "90cd616a",
   "metadata": {},
   "outputs": [],
   "source": [
    "hashtags = defaultdict(int)\n",
    "documents = {}"
   ]
  },
  {
   "cell_type": "code",
   "execution_count": 4,
   "id": "2024be4a",
   "metadata": {},
   "outputs": [
    {
     "name": "stderr",
     "output_type": "stream",
     "text": [
      "100%|██████████| 347540/347540 [00:31<00:00, 11168.35it/s]\n"
     ]
    }
   ],
   "source": [
    "# Regex to delete hashtags and mentions\n",
    "hashtag_regex = re.compile(r'#[a-zA-Z0-9_]*')\n",
    "mention_regex = re.compile(r'@[a-zA-Z0-9_]*')\n",
    "\n",
    "# Load the documents\n",
    "for line in tqdm(jsonl.readlines()):\n",
    "    line = json.loads(line)\n",
    "    try:\n",
    "        # Detect the language\n",
    "        detector = polyglot.detect.Detector(line['content'], quiet=True)\n",
    "        # Delete the ones not in hebrew\n",
    "        if line['id'] in documents or detector.language.code != 'iw':\n",
    "            continue\n",
    "        # Check if the location of the tweet or the use is\n",
    "        # within the target area code\n",
    "        if ((not line['place'] or line['place']['countryCode'] != 'IL')\n",
    "            and (not line['user'] or line['user']['location'].lower() != 'israel' )):\n",
    "            continue\n",
    "        # Get the documents into a dictionary\n",
    "        documents[line['id']] = {'text': re.sub(mention_regex, '', \n",
    "                                                re.sub(hashtag_regex, '', line['content'])).replace('.', ''),\n",
    "                                 'created': line['date'],\n",
    "                                 'likeCount': line['likeCount'],\n",
    "                                 'replyCount': line['replyCount'],\n",
    "                                 'hashtags': line['hashtags'],\n",
    "                                'location': line['place']}\n",
    "        if not line['hashtags']:\n",
    "            continue\n",
    "        for i in line['hashtags']:\n",
    "            hashtags[i] += 1\n",
    "    except:\n",
    "        pass"
   ]
  },
  {
   "cell_type": "code",
   "execution_count": 5,
   "id": "817a12da",
   "metadata": {},
   "outputs": [],
   "source": [
    "start = datetime.datetime.fromisoformat('2021-05-06T00:00:00+00:00')\n",
    "end   = datetime.datetime.fromisoformat('2021-05-21T00:00:00+00:00')"
   ]
  },
  {
   "cell_type": "code",
   "execution_count": 6,
   "id": "0b18d2e5",
   "metadata": {},
   "outputs": [
    {
     "name": "stderr",
     "output_type": "stream",
     "text": [
      "100%|██████████| 41638/41638 [00:00<00:00, 578936.06it/s]\n"
     ]
    }
   ],
   "source": [
    "# Split the data according to the time and date\n",
    "\n",
    "before = {}\n",
    "during = {}\n",
    "after  = {}\n",
    "\n",
    "for i,doc in tqdm(documents.items()):\n",
    "    dt = datetime.datetime.fromisoformat(doc['created'])\n",
    "    if dt < start:\n",
    "        before[i] = doc\n",
    "    elif dt > end:\n",
    "        after[i] = doc\n",
    "    else:\n",
    "        during[i] = doc"
   ]
  },
  {
   "cell_type": "code",
   "execution_count": 7,
   "id": "6a5adab5",
   "metadata": {},
   "outputs": [
    {
     "data": {
      "text/plain": [
       "41638"
      ]
     },
     "execution_count": 7,
     "metadata": {},
     "output_type": "execute_result"
    }
   ],
   "source": [
    "jsonl.close()\n",
    "len(documents)"
   ]
  },
  {
   "cell_type": "code",
   "execution_count": 8,
   "id": "c6e4ddb0",
   "metadata": {},
   "outputs": [
    {
     "data": {
      "image/png": "[encoded data removed]",
      "text/plain": [
       "<Figure size 432x288 with 1 Axes>"
      ]
     },
     "metadata": {},
     "output_type": "display_data"
    }
   ],
   "source": [
    "# Make a pie chart of the data distribution\n",
    "sm = len(before) + len(during) + len(after)\n",
    "plt.pie([len(before), len(during), len(after)],\n",
    "        labels=['Before the conflict (%.2f%%)'%(len(before)*100/sm),\n",
    "                'During the conflict (%.2f%%)'%(len(during)*100/sm),\n",
    "                'After the ceasefire (%.2f%%)'%(len(after)*100/sm)],\n",
    "        explode=[.05, .05, .05])\n",
    "plt.savefig('tweets.jpg', dpi=120, bbox_inches='tight')"
   ]
  },
  {
   "cell_type": "code",
   "execution_count": 9,
   "id": "ad48ce35",
   "metadata": {},
   "outputs": [],
   "source": [
    "# A function to analyse the sentiment from the documents\n",
    "def sentiment_analysis(docs):\n",
    "    sentiments = defaultdict(list)\n",
    "    for i,doc in tqdm(docs.items()):\n",
    "        # Read the text with the hebrew langauge\n",
    "        txt = Text(doc['text'], hint_language_code='he')\n",
    "        # Tokenize into sentences\n",
    "        for sentence in txt.raw_sentences:\n",
    "            # Process the sentence\n",
    "            sentence = Text(sentence, hint_language_code='he')\n",
    "            # Loop over the entities recognized by NER\n",
    "            for entity in txt.entities:\n",
    "                try:\n",
    "                    # Add the polarity of the data to the dictinary\n",
    "                    sentiments[' '.join(map(lambda x: x.lower(),\n",
    "                                            txt.words[entity.start:entity.end]))].append((\n",
    "                        entity.negative_sentiment, \n",
    "                        entity.positive_sentiment\n",
    "                    ))\n",
    "                except:\n",
    "                    pass\n",
    "    return sentiments"
   ]
  },
  {
   "cell_type": "code",
   "execution_count": 10,
   "id": "63d114c0",
   "metadata": {},
   "outputs": [
    {
     "name": "stderr",
     "output_type": "stream",
     "text": [
      "100%|██████████| 12754/12754 [01:23<00:00, 152.36it/s]\n",
      "100%|██████████| 13493/13493 [01:12<00:00, 186.92it/s]\n",
      "100%|██████████| 15391/15391 [01:34<00:00, 162.06it/s]\n"
     ]
    }
   ],
   "source": [
    "sentiments_before = sentiment_analysis(before)\n",
    "sentiments_after = sentiment_analysis(after)\n",
    "sentiments_during = sentiment_analysis(during)\n"
   ]
  },
  {
   "cell_type": "code",
   "execution_count": 11,
   "id": "18b2ab98",
   "metadata": {},
   "outputs": [],
   "source": [
    "# Get the average sentiment\n",
    "def average_sentiment(sentiments):\n",
    "    SM = np.matrix(sentiments)\n",
    "    return np.mean(SM, axis=0)"
   ]
  },
  {
   "cell_type": "code",
   "execution_count": 12,
   "id": "d0ad7323",
   "metadata": {},
   "outputs": [],
   "source": [
    "# Get the top 10 discussed entities and their sentiment\n",
    "def sorted_sentiment(snt):\n",
    "    entities = list(snt.keys())\n",
    "    entities.sort(key=lambda x: -len(snt[x]))\n",
    "    ent = entities[:10]\n",
    "    return np.array(list(map(lambda x:\n",
    "                        average_sentiment(snt[x]), ent))), ent"
   ]
  },
  {
   "cell_type": "code",
   "execution_count": 13,
   "id": "58a41a19",
   "metadata": {
    "scrolled": true
   },
   "outputs": [],
   "source": [
    "snt1 = sorted_sentiment(sentiments_before)"
   ]
  },
  {
   "cell_type": "code",
   "execution_count": 14,
   "id": "c59e565a",
   "metadata": {},
   "outputs": [],
   "source": [
    "snt2 = sorted_sentiment(sentiments_during)"
   ]
  },
  {
   "cell_type": "code",
   "execution_count": 15,
   "id": "cce676bd",
   "metadata": {},
   "outputs": [],
   "source": [
    "snt3 = sorted_sentiment(sentiments_after)"
   ]
  },
  {
   "cell_type": "code",
   "execution_count": 16,
   "id": "f80e96ff",
   "metadata": {},
   "outputs": [
    {
     "data": {
      "image/png": "[encoded data removed]",
      "text/plain": [
       "<Figure size 720x216 with 1 Axes>"
      ]
     },
     "metadata": {
      "needs_background": "light"
     },
     "output_type": "display_data"
    }
   ],
   "source": [
    "width=.125\n",
    "\n",
    "Pos = np.array(range(len(snt1[0])))\n",
    "\n",
    "plt.figure(figsize=(10, 3))\n",
    "plt.bar(Pos + width, list(snt1[0][:,:,1].flatten()), width = width, color='b')\n",
    "plt.bar(Pos - width, list(snt1[0][:,:,0].flatten()), width = width, color='r')\n",
    "plt.xticks(Pos, snt1[1])\n",
    "plt.savefig('before.jpg', dpi=120)"
   ]
  },
  {
   "cell_type": "code",
   "execution_count": 17,
   "id": "67351d2f",
   "metadata": {},
   "outputs": [
    {
     "data": {
      "image/png": "[encoded data removed]",
      "text/plain": [
       "<Figure size 720x216 with 1 Axes>"
      ]
     },
     "metadata": {
      "needs_background": "light"
     },
     "output_type": "display_data"
    }
   ],
   "source": [
    "width=.125\n",
    "\n",
    "Pos = np.array(range(len(snt2[0])))\n",
    "\n",
    "plt.figure(figsize=(10, 3))\n",
    "plt.bar(Pos + width, list(snt2[0][:,:,1].flatten()), width = width, color='b')\n",
    "plt.bar(Pos - width, list(snt2[0][:,:,0].flatten()), width = width, color='r')\n",
    "plt.xticks(Pos, snt2[1])\n",
    "plt.savefig('during.jpg', dpi=120)"
   ]
  },
  {
   "cell_type": "code",
   "execution_count": 18,
   "id": "bec6b51d",
   "metadata": {},
   "outputs": [
    {
     "data": {
      "image/png": "[encoded data removed]",
      "text/plain": [
       "<Figure size 720x216 with 1 Axes>"
      ]
     },
     "metadata": {
      "needs_background": "light"
     },
     "output_type": "display_data"
    }
   ],
   "source": [
    "width=.125\n",
    "\n",
    "Pos = np.array(range(len(snt3[0])))\n",
    "\n",
    "plt.figure(figsize=(10, 3))\n",
    "plt.bar(Pos + width, list(snt3[0][:,:,1].flatten()), width = width, color='b')\n",
    "plt.bar(Pos - width, list(snt3[0][:,:,0].flatten()), width = width, color='r')\n",
    "plt.xticks(Pos, snt3[1])\n",
    "plt.savefig('after.jpg', dpi=120)"
   ]
  },
  {
   "cell_type": "code",
   "execution_count": 19,
   "id": "5841a2e9",
   "metadata": {},
   "outputs": [],
   "source": [
    "# Get trending hashtags\n",
    "def trending_hashtags(d, n=10):\n",
    "    hashtags_during = defaultdict(int)\n",
    "    for i,doc in d.items():\n",
    "        if not doc['hashtags']:\n",
    "            continue\n",
    "        for hsh in doc['hashtags']:\n",
    "            hashtags_during[hsh] += 1\n",
    "    HT = list(hashtags_during.keys())\n",
    "    HT.sort(key=lambda x: -hashtags_during[x])\n",
    "    return HT[:n], {i: hashtags_during[i] for i in HT[:n]}"
   ]
  },
  {
   "cell_type": "code",
   "execution_count": null,
   "id": "edc04f35",
   "metadata": {},
   "outputs": [],
   "source": [
    "trending_hashtags(before)"
   ]
  },
  {
   "cell_type": "code",
   "execution_count": null,
   "id": "0aabd859",
   "metadata": {},
   "outputs": [],
   "source": [
    "trending_hashtags(during)"
   ]
  },
  {
   "cell_type": "code",
   "execution_count": null,
   "id": "9d3e2750",
   "metadata": {},
   "outputs": [],
   "source": [
    "trending_hashtags(after)"
   ]
  }
 ],
 "metadata": {
  "kernelspec": {
   "display_name": "Python 3",
   "language": "python",
   "name": "python3"
  },
  "language_info": {
   "codemirror_mode": {
    "name": "ipython",
    "version": 3
   },
   "file_extension": ".py",
   "mimetype": "text/x-python",
   "name": "python",
   "nbconvert_exporter": "python",
   "pygments_lexer": "ipython3",
   "version": "3.9.6"
  }
 },
 "nbformat": 4,
 "nbformat_minor": 5
}
